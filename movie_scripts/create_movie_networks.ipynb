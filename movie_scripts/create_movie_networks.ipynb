{
 "cells": [
  {
   "cell_type": "code",
   "execution_count": null,
   "metadata": {},
   "outputs": [],
   "source": [
    "char_sentences = dict()\n",
    "for character in df.character.unique():\n",
    "    text = tokenize(df.sentence[df.character == character].str.cat(sep=' '))\n",
    "    char_sentences[character] = text\n",
    "\n",
    "# Get average sentiment for all sentences of character\n",
    "char_sentiment = {}\n",
    "for char in char_sentences:\n",
    "    sentiment_for_char = sentiment(nltk.FreqDist(char_sentences[char]))\n",
    "    if sentiment_for_char:\n",
    "        char_sentiment[char] = sentiment_for_char"
   ]
  },
  {
   "cell_type": "code",
   "execution_count": null,
   "metadata": {},
   "outputs": [],
   "source": [
    "# Add one between characters that are in the same scene\n",
    "\n",
    "scene_movie_interactions = dict()\n",
    "\n",
    "scene_interactions = dict()\n",
    "for movie in df.movie_nr.unique():\n",
    "    scene_interactions = dict()\n",
    "    df_store = df[df.movie_nr == movie].groupby(['scene_id'])['character'].unique()\n",
    "    for scene in df_store:\n",
    "        for idx in range(len(scene)-1):\n",
    "            for idx2 in range(idx+1,len(scene)):\n",
    "                if (scene[idx],scene[idx2]) in scene_interactions:\n",
    "                    scene_interactions[(scene[idx],scene[idx2])] += 1\n",
    "                else:\n",
    "                    if (scene[idx2],scene[idx]) in scene_interactions:\n",
    "                        scene_interactions[(scene[idx2],scene[idx])] += 1\n",
    "                    else:\n",
    "                        scene_interactions[(scene[idx],scene[idx2])] = 1\n",
    "    scene_movie_interactions[movie] = scene_interactions"
   ]
  },
  {
   "cell_type": "code",
   "execution_count": null,
   "metadata": {},
   "outputs": [],
   "source": [
    "for x in scene_movie_interactions:\n",
    "    # Create an undirected weighted graph\n",
    "    G = nx.Graph()\n",
    "    for edge in scene_interactions:\n",
    "        edge_1 = edge[0]\n",
    "        edge_2 = edge[1]\n",
    "        weight = scene_interactions[edge]\n",
    "        G.add_edges_from([(edge_1, edge_2, {'weight': weight})])\n",
    "    G_GCC = G.subgraph(max(nx.connected_components(G), key=len))\n",
    "    with open(f'./data/networks_pickled/movie_{x}.pkl', 'wb') as f:\n",
    "        pickle.dump(G_GCC, f)\n",
    "    "
   ]
  },
  {
   "cell_type": "code",
   "execution_count": null,
   "metadata": {},
   "outputs": [],
   "source": []
  },
  {
   "cell_type": "code",
   "execution_count": null,
   "metadata": {},
   "outputs": [],
   "source": []
  },
  {
   "cell_type": "code",
   "execution_count": null,
   "metadata": {},
   "outputs": [],
   "source": []
  },
  {
   "cell_type": "code",
   "execution_count": null,
   "metadata": {},
   "outputs": [],
   "source": []
  },
  {
   "cell_type": "code",
   "execution_count": null,
   "metadata": {},
   "outputs": [],
   "source": []
  },
  {
   "cell_type": "code",
   "execution_count": null,
   "metadata": {},
   "outputs": [],
   "source": []
  }
 ],
 "metadata": {
  "kernelspec": {
   "display_name": "Python 3",
   "language": "python",
   "name": "python3"
  },
  "language_info": {
   "codemirror_mode": {
    "name": "ipython",
    "version": 3
   },
   "file_extension": ".py",
   "mimetype": "text/x-python",
   "name": "python",
   "nbconvert_exporter": "python",
   "pygments_lexer": "ipython3",
   "version": "3.7.7"
  }
 },
 "nbformat": 4,
 "nbformat_minor": 4
}
