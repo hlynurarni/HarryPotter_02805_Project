{
 "cells": [
  {
   "cell_type": "code",
   "execution_count": 21,
   "metadata": {},
   "outputs": [],
   "source": [
    "import pickle\n",
    "import networkx as nx\n",
    "import numpy as np\n",
    "from webweb import Web # pip install webweb"
   ]
  },
  {
   "cell_type": "code",
   "execution_count": 27,
   "metadata": {},
   "outputs": [],
   "source": [
    "# All the movie titles in correct order\n",
    "movie_titles = [\"Harry Potter and the Philosopher's Stone\",\"Harry Potter and the Chamber of Secrets\",\n",
    "              \"Harry Potter and the Prisoner of Azkaban\",\"Harry Potter and the Goblet of Fire\",\n",
    "              \"Harry Potter and the Order of the Phoenix\",\"Harry Potter and the Half-Blood Prince\",\n",
    "              \"Harry Potter and the Deathly Hallows – Part 1\",\"Harry Potter and the Deathly Hallows – Part 2\"]\n",
    "movie_titles_short = [movie_titles[i].split(\"Harry Potter and the \", 1)[1] for i in range(len(movie_titles))]"
   ]
  },
  {
   "cell_type": "code",
   "execution_count": 32,
   "metadata": {},
   "outputs": [
    {
     "data": {
      "text/plain": [
       "[\"Philosopher'sStone\",\n",
       " 'ChamberofSecrets',\n",
       " 'PrisonerofAzkaban',\n",
       " 'GobletofFire',\n",
       " 'OrderofthePhoenix',\n",
       " 'Half-BloodPrince',\n",
       " 'DeathlyHallows–Part1',\n",
       " 'DeathlyHallows–Part2']"
      ]
     },
     "execution_count": 32,
     "metadata": {},
     "output_type": "execute_result"
    }
   ],
   "source": [
    "new_title = []\n",
    "for x in movie_titles_short:\n",
    "    new_title.append(\"\".join(x.split()))\n",
    "new_title"
   ]
  },
  {
   "cell_type": "code",
   "execution_count": 22,
   "metadata": {},
   "outputs": [],
   "source": [
    "network_list = []\n",
    "for movie in np.arange(1,9):\n",
    "    with open(f'./data/networks_pickled/movie_{movie}.pkl', 'rb') as f:\n",
    "        G = pickle.load(f)\n",
    "    network_list.append(G)"
   ]
  },
  {
   "cell_type": "code",
   "execution_count": 23,
   "metadata": {},
   "outputs": [],
   "source": [
    "# # Building another copy of the network, to leave out a few attributes that don't plot very well\n",
    "\n",
    "# G_comms = nx.DiGraph()\n",
    "\n",
    "# # Looping through other network and adding to the network\n",
    "# for node in G.nodes:             \n",
    "#     G_comms.add_node(node, # node name\n",
    "#                 book_nr = str(G_viz.nodes[node]['book_nr']), \n",
    "#                 house = G_viz.nodes[node]['house'], \n",
    "#                 sentiment = node_sentiment[node],\n",
    "#                 degree_centrality = G.nodes[node]['degree_centrality'],\n",
    "#                 in_degree_centrality = G.nodes[node]['in_degree_centrality'],     \n",
    "#                 out_degree_centrality = G.nodes[node]['out_degree_centrality'],     \n",
    "#                 blood = G_viz.nodes[node]['blood'],\n",
    "#                 gender = G_viz.nodes[node]['gender'],\n",
    "#                 species = \"Human\" if G_viz.nodes[node]['species'] == \"Human\" else \"Nonhuman\",\n",
    "#                 community = G_viz.nodes[node]['community'])\n",
    "\n",
    "# # Adding links\n",
    "# for node in G_comms.nodes:\n",
    "#     for link in G_viz.nodes[node]['links']:\n",
    "#         if link in G_comms: # If other entity is in the network\n",
    "#             G_comms.add_edge(node, link)\n",
    "            \n",
    "\n",
    "# print(\"Added {} nodes. Size of network: {}\".format(len(df_wiki), len(G)))  \n",
    "# print(\"{} edges in network.\".format(len(G.edges)))\n"
   ]
  },
  {
   "cell_type": "code",
   "execution_count": 35,
   "metadata": {},
   "outputs": [],
   "source": [
    "# Declaring webweb instance of the networks\n",
    "\n",
    "web = Web(title=\"Philosopher's Stone\", nx_G=network_list[0])\n",
    "\n",
    "# movie1 = network_list[0]\n",
    "# movie2 = network_list[1]\n",
    "# movie3 = network_list[2]\n",
    "# movie4 = network_list[3]\n",
    "# movie5 = network_list[4]\n",
    "# movie6 = network_list[5]\n",
    "# movie7 = network_list[6]\n",
    "# movie8 = network_list[7]\n",
    "\n",
    "[\"Philosopher'sStone\",\n",
    " 'ChamberofSecrets',\n",
    " 'PrisonerofAzkaban',\n",
    " 'GobletofFire',\n",
    " 'OrderofthePhoenix',\n",
    " 'Half-BloodPrince',\n",
    " 'DeathlyHallows–Part1',\n",
    " 'DeathlyHallows–Part2']\n",
    "\n",
    "\n",
    "web.networks.ChamberofSecrets(nx_G=network_list[1])\n",
    "web.networks.PrisonerofAzkaban(nx_G=network_list[2])\n",
    "web.networks.GobletofFire(nx_G=network_list[3])\n",
    "web.networks.OrderofthePhoenix(nx_G=network_list[4])\n",
    "web.networks.Half_BloodPrince(nx_G=network_list[5])\n",
    "web.networks.DeathlyHallows_PartI(nx_G=network_list[6])\n",
    "web.networks.DeathlyHallows_PartII(nx_G=network_list[7])"
   ]
  },
  {
   "cell_type": "code",
   "execution_count": 36,
   "metadata": {},
   "outputs": [],
   "source": [
    "# Configuration\n",
    "\n",
    "web.display.colorBy = 'community'\n",
    "web.display.sizeBy = 'degree'\n",
    "web.display.gravity = .1\n",
    "web.display.charge = 10\n",
    "web.display.radius = 6\n",
    "web.display.linkLength = 20\n",
    "web.display.linkStrength = 0.1\n",
    "web.display.colorPalette = 'RdYlGn'\n",
    "web.display.scaleLinkOpacity = True\n",
    "web.display.scaleLinkWidth = False\n",
    "web.display.nameToMatch = 'Harry'"
   ]
  },
  {
   "cell_type": "code",
   "execution_count": 37,
   "metadata": {},
   "outputs": [],
   "source": [
    "# Testing\n",
    "web.show()"
   ]
  },
  {
   "cell_type": "code",
   "execution_count": 38,
   "metadata": {},
   "outputs": [],
   "source": [
    "# Saving \n",
    "web.save('./data/networks_pickled/final_webweb.html')"
   ]
  },
  {
   "cell_type": "code",
   "execution_count": null,
   "metadata": {},
   "outputs": [],
   "source": []
  },
  {
   "cell_type": "code",
   "execution_count": null,
   "metadata": {},
   "outputs": [],
   "source": []
  }
 ],
 "metadata": {
  "kernelspec": {
   "display_name": "Python 3",
   "language": "python",
   "name": "python3"
  },
  "language_info": {
   "codemirror_mode": {
    "name": "ipython",
    "version": 3
   },
   "file_extension": ".py",
   "mimetype": "text/x-python",
   "name": "python",
   "nbconvert_exporter": "python",
   "pygments_lexer": "ipython3",
   "version": "3.7.7"
  }
 },
 "nbformat": 4,
 "nbformat_minor": 4
}
