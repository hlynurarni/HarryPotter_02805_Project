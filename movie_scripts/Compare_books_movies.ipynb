{
 "cells": [
  {
   "cell_type": "code",
   "execution_count": 5,
   "metadata": {},
   "outputs": [],
   "source": [
    "import random\n",
    "import nltk, re, pprint\n",
    "from nltk import word_tokenize\n",
    "from nltk.corpus import stopwords\n",
    "import pandas as pd\n",
    "import matplotlib.pyplot as plt\n",
    "import copy\n",
    "import numpy as np\n",
    "import seaborn as sns\n",
    "import itertools\n",
    "import pickle\n",
    "import math\n",
    "import networkx as nx\n",
    "import community\n",
    "import pickle \n",
    "from collections import Counter\n",
    "from wordcloud import WordCloud, ImageColorGenerator\n",
    "from operator import itemgetter\n",
    "from fa2 import ForceAtlas2\n",
    "sns.set()\n",
    "%matplotlib inline"
   ]
  },
  {
   "cell_type": "code",
   "execution_count": 6,
   "metadata": {},
   "outputs": [
    {
     "data": {
      "text/html": [
       "<div>\n",
       "<style scoped>\n",
       "    .dataframe tbody tr th:only-of-type {\n",
       "        vertical-align: middle;\n",
       "    }\n",
       "\n",
       "    .dataframe tbody tr th {\n",
       "        vertical-align: top;\n",
       "    }\n",
       "\n",
       "    .dataframe thead th {\n",
       "        text-align: right;\n",
       "    }\n",
       "</style>\n",
       "<table border=\"1\" class=\"dataframe\">\n",
       "  <thead>\n",
       "    <tr style=\"text-align: right;\">\n",
       "      <th></th>\n",
       "      <th>movie_nr</th>\n",
       "      <th>sentence_number</th>\n",
       "      <th>character</th>\n",
       "      <th>sentence</th>\n",
       "      <th>scene_desc</th>\n",
       "      <th>scene_id</th>\n",
       "    </tr>\n",
       "  </thead>\n",
       "  <tbody>\n",
       "    <tr>\n",
       "      <th>0</th>\n",
       "      <td>1</td>\n",
       "      <td>1</td>\n",
       "      <td>Albus Dumbledore</td>\n",
       "      <td>I should have known that you would be here...P...</td>\n",
       "      <td>A neighbourhood on a street called Privet Driv...</td>\n",
       "      <td>1</td>\n",
       "    </tr>\n",
       "    <tr>\n",
       "      <th>1</th>\n",
       "      <td>1</td>\n",
       "      <td>2</td>\n",
       "      <td>Mcgonagall</td>\n",
       "      <td>Good evening, Professor Dumbledore. Are the ru...</td>\n",
       "      <td>The cat meows, sniffs out and the camera pans ...</td>\n",
       "      <td>1</td>\n",
       "    </tr>\n",
       "    <tr>\n",
       "      <th>2</th>\n",
       "      <td>1</td>\n",
       "      <td>3</td>\n",
       "      <td>Albus Dumbledore</td>\n",
       "      <td>I'm afraid so, Professor. The good, and the bad.</td>\n",
       "      <td>The cat meows, sniffs out and the camera pans ...</td>\n",
       "      <td>1</td>\n",
       "    </tr>\n",
       "    <tr>\n",
       "      <th>3</th>\n",
       "      <td>1</td>\n",
       "      <td>4</td>\n",
       "      <td>Mcgonagall</td>\n",
       "      <td>And the boy?</td>\n",
       "      <td>The cat meows, sniffs out and the camera pans ...</td>\n",
       "      <td>1</td>\n",
       "    </tr>\n",
       "    <tr>\n",
       "      <th>4</th>\n",
       "      <td>1</td>\n",
       "      <td>5</td>\n",
       "      <td>Albus Dumbledore</td>\n",
       "      <td>Hagrid is bringing him.</td>\n",
       "      <td>The cat meows, sniffs out and the camera pans ...</td>\n",
       "      <td>1</td>\n",
       "    </tr>\n",
       "  </tbody>\n",
       "</table>\n",
       "</div>"
      ],
      "text/plain": [
       "  movie_nr sentence_number         character  \\\n",
       "0        1               1  Albus Dumbledore   \n",
       "1        1               2        Mcgonagall   \n",
       "2        1               3  Albus Dumbledore   \n",
       "3        1               4        Mcgonagall   \n",
       "4        1               5  Albus Dumbledore   \n",
       "\n",
       "                                            sentence  \\\n",
       "0  I should have known that you would be here...P...   \n",
       "1  Good evening, Professor Dumbledore. Are the ru...   \n",
       "2   I'm afraid so, Professor. The good, and the bad.   \n",
       "3                                       And the boy?   \n",
       "4                            Hagrid is bringing him.   \n",
       "\n",
       "                                          scene_desc scene_id  \n",
       "0  A neighbourhood on a street called Privet Driv...        1  \n",
       "1  The cat meows, sniffs out and the camera pans ...        1  \n",
       "2  The cat meows, sniffs out and the camera pans ...        1  \n",
       "3  The cat meows, sniffs out and the camera pans ...        1  \n",
       "4  The cat meows, sniffs out and the camera pans ...        1  "
      ]
     },
     "execution_count": 6,
     "metadata": {},
     "output_type": "execute_result"
    }
   ],
   "source": [
    "df = pd.read_pickle(\"./movie_scripts.pkl\")\n",
    "df.head()"
   ]
  },
  {
   "cell_type": "code",
   "execution_count": 7,
   "metadata": {},
   "outputs": [],
   "source": [
    "# All the movie titles in correct order\n",
    "move_titles = [\"Harry Potter and the Philosopher's Stone\",\"Harry Potter and the Chamber of Secrets\",\n",
    "              \"Harry Potter and the Prisoner of Azkaban\",\"Harry Potter and the Goblet of Fire\",\n",
    "              \"Harry Potter and the Order of the Phoenix\",\"Harry Potter and the Half-Blood Prince\",\n",
    "              \"Harry Potter and the Deathly Hallows – Part 1\",\"Harry Potter and the Deathly Hallows – Part 2\"]\n",
    "move_titles_short = [move_titles[i].split(\"Harry Potter and the \", 1)[1] for i in range(len(move_titles))]"
   ]
  },
  {
   "cell_type": "code",
   "execution_count": 8,
   "metadata": {},
   "outputs": [],
   "source": [
    "# Add new column to dataframe that include the tokenized sentences\n",
    "# Function to calculate the sentiment of tokenized list\n",
    "def tokenize(text):\n",
    "    #toxenize the text \n",
    "    tokens = nltk.word_tokenize(text)\n",
    "    words = [w.lower() for w in tokens if w.isalpha()]\n",
    "    lem_words = [wnl.lemmatize(w) for w in words if w not in stopwords]\n",
    "    return(lem_words)\n",
    "\n",
    "stopwords = nltk.corpus.stopwords.words('english')\n",
    "wnl = nltk.WordNetLemmatizer()"
   ]
  },
  {
   "cell_type": "code",
   "execution_count": 9,
   "metadata": {},
   "outputs": [],
   "source": [
    "# Lets combine all sentences of characters into a dictionary\n",
    "\n",
    "char_sentences = dict()\n",
    "for character in df.character.unique():\n",
    "    text = tokenize(df.sentence[df.character == character].str.cat(sep=' '))\n",
    "    char_sentences[character] = text\n",
    "    \n",
    "# Lets combine all sentences for each movie into a dictionary\n",
    "movie_sentences = dict()\n",
    "for movie in df.movie_nr.unique():\n",
    "    text = tokenize(df.sentence[df.movie_nr == movie].str.cat(sep=' '))\n",
    "    movie_sentences[movie] = text\n",
    "    \n",
    "# maybe have dictionary that has the key movie, that has the key of character and and the value as sentence"
   ]
  },
  {
   "cell_type": "code",
   "execution_count": 10,
   "metadata": {},
   "outputs": [
    {
     "data": {
      "text/plain": [
       "FreqDist({'harry': 161, 'go': 59, 'see': 53, 'come': 50, 'ron': 50, 'one': 49, 'oh': 48, 'know': 47, 'hagrid': 44, 'potter': 39, ...})"
      ]
     },
     "execution_count": 10,
     "metadata": {},
     "output_type": "execute_result"
    }
   ],
   "source": [
    "nltk.FreqDist(movie_sentences[1])"
   ]
  },
  {
   "cell_type": "markdown",
   "metadata": {},
   "source": [
    "Þinn kóði fyrir neðan (ekki búinn að fitta rétt) :D "
   ]
  },
  {
   "cell_type": "code",
   "execution_count": null,
   "metadata": {},
   "outputs": [],
   "source": [
    "# Collect all the top 10 most common words in each book into a set\n",
    "most_common_words = []\n",
    "\n",
    "for i in range(len(books)):\n",
    "    terms = [term for (term, freq) in books[i]['fdist_norm'].most_common(10)]\n",
    "    most_common_words.extend(terms)\n",
    "\n",
    "word_set = list(set(most_common_words))\n",
    "\n",
    "# Collect the total relative frequency of each word so that the order can be defined\n",
    "word_set_freq = []\n",
    "for word in word_set:\n",
    "    word_freq = 0\n",
    "    for i in range(len(books)):\n",
    "        word_freq += books[i]['fdist_norm'][word]\n",
    "    word_set_freq.append(word_freq)\n",
    "\n",
    "# create a list of the correctly sorted elements\n",
    "word_set_sorted = list(np.array(word_set)[np.argsort(word_set_freq).astype(int)])"
   ]
  },
  {
   "cell_type": "code",
   "execution_count": null,
   "metadata": {},
   "outputs": [],
   "source": [
    "fig, axes = plt.subplots(1, 7, sharey=True, sharex=True, figsize=(20,10), gridspec_kw={'wspace':0.01, 'hspace':0.01}, squeeze=True)\n",
    "\n",
    "palette = itertools.cycle(sns.color_palette())\n",
    "\n",
    "for i in range(7):\n",
    "\n",
    "    height = []\n",
    "\n",
    "    for word in word_set_sorted:\n",
    "        height.append(books[i]['fdist_norm'][word])\n",
    "\n",
    "    # Create the list of bars for the plot\n",
    "    bars = word_set_sorted\n",
    "\n",
    "    y_pos = np.arange(len(bars))\n",
    "\n",
    "    # Create horizontal bars\n",
    "    axes[i].barh(y_pos, height, color=next(palette))\n",
    "    \n",
    "axes[i]\n",
    "fig.set_tight_layout(True)\n",
    "\n",
    "# Create names on the y-axis\n",
    "plt.yticks(np.arange(len(bars)), word_set_sorted);\n",
    "fig.suptitle('highest normalized frequency of words in all the books');\n",
    "# Set the rotation and horizontal alignment of the x tick labels\n",
    "#plt.setp(axes[1][0].get_xticklabels(), rotation=45, ha=\"right\");\n",
    "#plt.setp(axes[1][1].get_xticklabels(), rotation=45, ha=\"right\");"
   ]
  }
 ],
 "metadata": {
  "kernelspec": {
   "display_name": "Python 3",
   "language": "python",
   "name": "python3"
  },
  "language_info": {
   "codemirror_mode": {
    "name": "ipython",
    "version": 3
   },
   "file_extension": ".py",
   "mimetype": "text/x-python",
   "name": "python",
   "nbconvert_exporter": "python",
   "pygments_lexer": "ipython3",
   "version": "3.7.7"
  }
 },
 "nbformat": 4,
 "nbformat_minor": 4
}
