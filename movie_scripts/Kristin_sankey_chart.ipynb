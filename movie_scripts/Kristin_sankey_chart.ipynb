{
 "cells": [
  {
   "cell_type": "code",
   "execution_count": 37,
   "metadata": {},
   "outputs": [],
   "source": [
    "from chord import Chord\n",
    "%matplotlib inline\n",
    "\n",
    "import random\n",
    "import nltk, re, pprint\n",
    "from nltk import word_tokenize\n",
    "from nltk.corpus import stopwords\n",
    "import pandas as pd\n",
    "import matplotlib.pyplot as plt\n",
    "import copy\n",
    "import numpy as np\n",
    "import seaborn as sns\n",
    "import itertools\n",
    "import pickle\n",
    "import math\n",
    "import networkx as nx\n",
    "import community\n",
    "import pickle \n",
    "from collections import Counter\n",
    "from wordcloud import WordCloud, ImageColorGenerator\n",
    "from operator import itemgetter\n",
    "from fa2 import ForceAtlas2\n",
    "sns.set()\n",
    "%matplotlib inline"
   ]
  },
  {
   "cell_type": "markdown",
   "metadata": {},
   "source": [
    "# Sankey circle chart\n",
    "First we need to gather the data of which characters interact with eachother, and gather into a dictionary."
   ]
  },
  {
   "cell_type": "code",
   "execution_count": 103,
   "metadata": {},
   "outputs": [],
   "source": [
    "with open('char_interactions.pickle', 'rb') as handle:\n",
    "    char_interactions_dict = pickle.load(handle)"
   ]
  },
  {
   "cell_type": "markdown",
   "metadata": {},
   "source": [
    "Since the Chord used a matrix as input for the graph data, it is necessary to convert this information into a matrix."
   ]
  },
  {
   "cell_type": "code",
   "execution_count": 104,
   "metadata": {
    "scrolled": true
   },
   "outputs": [
    {
     "data": {
      "text/plain": [
       "5"
      ]
     },
     "execution_count": 104,
     "metadata": {},
     "output_type": "execute_result"
    }
   ],
   "source": [
    "char_interactions_dict[('Albus Dumbledore', 'Mcgonagall')]"
   ]
  },
  {
   "cell_type": "markdown",
   "metadata": {},
   "source": [
    "As there are so many characters with very few interactions, the dictionary will be filterd to only include those character combinations that have at least 4 scenes together."
   ]
  },
  {
   "cell_type": "code",
   "execution_count": 115,
   "metadata": {},
   "outputs": [],
   "source": [
    "# Filter dictionary where value greater than 2\n",
    "char_interactions_dict = { key:value for (key,value) in char_interactions_dict.items() if value > 3}"
   ]
  },
  {
   "cell_type": "markdown",
   "metadata": {},
   "source": [
    "First we need to extract a list of all the characters in the dictionary."
   ]
  },
  {
   "cell_type": "code",
   "execution_count": 116,
   "metadata": {},
   "outputs": [
    {
     "name": "stdout",
     "output_type": "stream",
     "text": [
      "Total number of characters:  64\n"
     ]
    }
   ],
   "source": [
    "all_characters = list(set([item for t in char_interactions_dict.keys() for item in t]))\n",
    "print(\"Total number of characters: \", len(all_characters))"
   ]
  },
  {
   "cell_type": "markdown",
   "metadata": {},
   "source": [
    "And from the dictionary a matrix can be computed and converted into a list of lists, since that is the format of the data needed for the diagram."
   ]
  },
  {
   "cell_type": "code",
   "execution_count": 117,
   "metadata": {},
   "outputs": [
    {
     "name": "stdout",
     "output_type": "stream",
     "text": [
      "[[0 0 0 ... 0 0 0]\n",
      " [0 0 0 ... 0 0 0]\n",
      " [0 0 0 ... 0 0 0]\n",
      " ...\n",
      " [0 0 0 ... 0 0 0]\n",
      " [0 0 0 ... 0 0 0]\n",
      " [0 0 0 ... 0 0 0]]\n"
     ]
    }
   ],
   "source": [
    "# Genearte empty matrix\n",
    "chord_data = np.zeros((len(all_characters), len(all_characters)), dtype=int)\n",
    "\n",
    "# Loop over dict and populate matrix (which is symmetric)\n",
    "for key in char_interactions_dict:\n",
    "    i = all_characters.index(key[0])\n",
    "    j = all_characters.index(key[1])\n",
    "    chord_data[i, j] = char_interactions_dict[key]\n",
    "    chord_data[j, i] = char_interactions_dict[key]\n",
    "\n",
    "# Convert matrix to list of lists.\n",
    "chord_data = chord_data.tolist()"
   ]
  },
  {
   "cell_type": "code",
   "execution_count": 122,
   "metadata": {},
   "outputs": [],
   "source": [
    "# Plot and save to html\n",
    "Chord(chord_data, all_characters, width=800, margin=80, font_size_large=\"14px\", padding = 0.02, credit=True).to_html()"
   ]
  }
 ],
 "metadata": {
  "kernelspec": {
   "display_name": "Python 3",
   "language": "python",
   "name": "python3"
  },
  "language_info": {
   "codemirror_mode": {
    "name": "ipython",
    "version": 3
   },
   "file_extension": ".py",
   "mimetype": "text/x-python",
   "name": "python",
   "nbconvert_exporter": "python",
   "pygments_lexer": "ipython3",
   "version": "3.7.3"
  }
 },
 "nbformat": 4,
 "nbformat_minor": 4
}
