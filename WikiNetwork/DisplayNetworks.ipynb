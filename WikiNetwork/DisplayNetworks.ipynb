{
 "cells": [
  {
   "cell_type": "code",
   "execution_count": 61,
   "metadata": {},
   "outputs": [],
   "source": [
    "from webweb import Web # pip install webweb\n",
    "import networkx as nx\n",
    "import pickle"
   ]
  },
  {
   "cell_type": "code",
   "execution_count": 62,
   "metadata": {},
   "outputs": [
    {
     "name": "stdout",
     "output_type": "stream",
     "text": [
      "Loaded network of type <class 'networkx.classes.digraph.DiGraph'>, containing 124 nodes and 2856 edges.\n"
     ]
    }
   ],
   "source": [
    "# Fetching the houses network\n",
    "\n",
    "with open('networks/wiki_network_highly_connected_with_houses.pkl', 'rb') as f:\n",
    "    G = pickle.load(f)\n",
    "    \n",
    "print(\"Loaded network of type {}, containing {} nodes and {} edges.\".format(type(G), len(G), len(G.edges)))"
   ]
  },
  {
   "cell_type": "code",
   "execution_count": 63,
   "metadata": {},
   "outputs": [],
   "source": [
    "# Making a webweb graph out of the network\n",
    "\n",
    "web = Web(nx_G=G)"
   ]
  },
  {
   "cell_type": "code",
   "execution_count": 64,
   "metadata": {},
   "outputs": [],
   "source": [
    "# Configuration\n",
    "\n",
    "web.display.colorBy = 'house'\n",
    "web.display.sizeBy = 'degree'\n",
    "web.display.gravity = .1\n",
    "web.display.charge = 150\n",
    "web.display.linkLength = 20\n",
    "web.display.linkStrength = 0.1\n",
    "web.display.colorPalette = 'RdGy'\n",
    "web.display.scaleLinkOpacity = True\n",
    "web.display.scaleLinkWidth = False"
   ]
  },
  {
   "cell_type": "code",
   "execution_count": 69,
   "metadata": {},
   "outputs": [],
   "source": [
    "# Testing\n",
    "\n",
    "\n",
    "web.display.attachWebwebToElementWithId = 'network'\n",
    "\n",
    "web.save(\"webweb_networks/testConfig\")"
   ]
  },
  {
   "cell_type": "code",
   "execution_count": 46,
   "metadata": {},
   "outputs": [],
   "source": [
    "# Saving \n",
    "\n",
    "web.save(\"webweb_networks/houses_webweb\")"
   ]
  },
  {
   "cell_type": "code",
   "execution_count": 47,
   "metadata": {},
   "outputs": [
    {
     "name": "stdout",
     "output_type": "stream",
     "text": [
      "Loaded network of type <class 'networkx.classes.digraph.DiGraph'>, containing 788 nodes and 12386 edges.\n"
     ]
    }
   ],
   "source": [
    "# Fetching the total network\n",
    "\n",
    "with open('networks/wiki_network_all_wikis.pkl', 'rb') as f:\n",
    "    G = pickle.load(f)\n",
    "    \n",
    "print(\"Loaded network of type {}, containing {} nodes and {} edges.\".format(type(G), len(G), len(G.edges)))"
   ]
  },
  {
   "cell_type": "code",
   "execution_count": 49,
   "metadata": {},
   "outputs": [],
   "source": [
    "# Making a webweb graph out of the network\n",
    "\n",
    "web = Web(nx_G=G)"
   ]
  },
  {
   "cell_type": "code",
   "execution_count": 59,
   "metadata": {},
   "outputs": [],
   "source": [
    "# Configuration\n",
    "\n",
    "web.display.colorBy = 'book_nr'\n",
    "web.display.sizeBy = 'degree'\n",
    "web.display.gravity = 0.1\n",
    "web.display.charge = 45\n",
    "web.display.radius = 7\n",
    "web.display.linkLength = 7\n",
    "web.display.linkStrength = 0.1\n",
    "web.display.colorPalette = 'set1'\n",
    "#web.display.freezeNodes = True\n",
    "web.display.scaleLinkOpacity = True\n",
    "web.display.scaleLinkWidth = False"
   ]
  },
  {
   "cell_type": "code",
   "execution_count": 70,
   "metadata": {},
   "outputs": [],
   "source": [
    "# Testing\n",
    "web.show()"
   ]
  },
  {
   "cell_type": "code",
   "execution_count": 60,
   "metadata": {},
   "outputs": [],
   "source": [
    "# Saving \n",
    "\n",
    "web.save(\"webweb_networks/all_wikis_webweb\")"
   ]
  }
 ],
 "metadata": {
  "kernelspec": {
   "display_name": "Python 3",
   "language": "python",
   "name": "python3"
  },
  "language_info": {
   "codemirror_mode": {
    "name": "ipython",
    "version": 3
   },
   "file_extension": ".py",
   "mimetype": "text/x-python",
   "name": "python",
   "nbconvert_exporter": "python",
   "pygments_lexer": "ipython3",
   "version": "3.7.3"
  }
 },
 "nbformat": 4,
 "nbformat_minor": 4
}
