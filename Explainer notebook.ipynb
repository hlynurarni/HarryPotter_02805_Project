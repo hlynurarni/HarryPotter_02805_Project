{
 "cells": [
  {
   "cell_type": "markdown",
   "metadata": {},
   "source": [
    "# The magical universe of Harry Potter - Explainer notebook"
   ]
  },
  {
   "cell_type": "markdown",
   "metadata": {},
   "source": [
    "# Index\n",
    "[1. Motivation](#motivation)<br>\n",
    "[2. Basic stats](#stats)<br>\n",
    "[3. Tools, theory and analysis](#tools)<br>\n",
    "[4. Discussion](#discussion)<br>\n",
    "[5. Contributions](#contributions)<br>"
   ]
  },
  {
   "cell_type": "markdown",
   "metadata": {},
   "source": [
    "<a id='motivation'></a>\n",
    "# 1. Motivation"
   ]
  },
  {
   "cell_type": "markdown",
   "metadata": {},
   "source": [
    "* **What is your dataset?**<br>\n",
    "Svar\n",
    "<br>\n",
    "\n",
    "* **Why did you choose these particular datsets?**<br>\n",
    "Svar\n",
    "<br>\n",
    "\n",
    "* **What was your goal for the end user's experience?**<br>\n",
    "Svar\n",
    "<br>"
   ]
  },
  {
   "cell_type": "markdown",
   "metadata": {},
   "source": [
    "<a id='stats'></a>\n",
    "# 2. Basic stats. Let's understand the dataset better\n",
    "* Write about your choices in the data cleaning and preprocessing\n",
    "* Write a short section that discusses the dataset stats (here you can recycle the work you did for Project Assignment A"
   ]
  },
  {
   "cell_type": "markdown",
   "metadata": {},
   "source": [
    "<a id='tools'></a>\n",
    "# 3. Tools, theory and analysis. Describe the process of theory to insight\n",
    "* Talk about how you've worked with the text, including regular expressions, unicode, etc.\n",
    "* Describe which network science tools and data analysis strategies you've used, how those network science measures work, and why the tools you've chosen are right for the problem you are solving.\n",
    "* How did you use the tools to understand your dataset?\n",
    "\n",
    "Setup:\n",
    "\n",
    "* Explain the overall idea\n",
    "* Analysis step 1\n",
    "    * Explain what you're interested in\n",
    "    * Explain the tool\n",
    "    * apply the tool\n",
    "    * Discuss the outcome\n",
    "* Analysis step 2\n",
    "    * Explain what you're interested in\n",
    "    * Explain the tool\n",
    "    * apply the tool\n",
    "    * Discuss the outcome\n",
    "* Analysis step 3\n",
    "    * Explain what you're interested in\n",
    "    * Explain the tool\n",
    "    * apply the tool\n",
    "    * Discuss the outcome"
   ]
  },
  {
   "cell_type": "markdown",
   "metadata": {},
   "source": [
    "<a id='discussion'></a>\n",
    "# 4. Discussion. Think critically about your creation\n",
    "* What went well?\n",
    "* What is still missing\n",
    "* What could be improved\n",
    "* Why"
   ]
  },
  {
   "cell_type": "markdown",
   "metadata": {},
   "source": [
    "<a id='contributions'></a>\n",
    "# 5. Contibutions. Who did what?\n",
    "* You should write (just briefly) which group memeber was the main responsible for which elements of the assignment. (I want you guys to understand every part of the assignment, but usually there is someone who took lead role in certain portions of the work. That's what you should explain.\n",
    "* It is not OK to simply write \"All group members contributed equally\""
   ]
  },
  {
   "cell_type": "code",
   "execution_count": null,
   "metadata": {},
   "outputs": [],
   "source": []
  }
 ],
 "metadata": {
  "kernelspec": {
   "display_name": "Python 3",
   "language": "python",
   "name": "python3"
  },
  "language_info": {
   "codemirror_mode": {
    "name": "ipython",
    "version": 3
   },
   "file_extension": ".py",
   "mimetype": "text/x-python",
   "name": "python",
   "nbconvert_exporter": "python",
   "pygments_lexer": "ipython3",
   "version": "3.7.3"
  }
 },
 "nbformat": 4,
 "nbformat_minor": 4
}
